{
 "cells": [
  {
   "cell_type": "code",
   "execution_count": 1,
   "id": "844435bb-9cb7-41ac-bd20-1ac8b805c972",
   "metadata": {},
   "outputs": [],
   "source": [
    "import numpy as np\n",
    "import pandas as pd\n",
    "import nltk"
   ]
  },
  {
   "cell_type": "code",
   "execution_count": 2,
   "id": "2607ef9a-ede0-4ce5-9165-6c9029d0d9ca",
   "metadata": {},
   "outputs": [],
   "source": [
    "amazon_df=pd.read_csv('amazon_product.csv')"
   ]
  },
  {
   "cell_type": "code",
   "execution_count": 3,
   "id": "c034f2de-efff-40e9-8b96-7823b72e1d2f",
   "metadata": {},
   "outputs": [
    {
     "data": {
      "text/html": [
       "<div>\n",
       "<style scoped>\n",
       "    .dataframe tbody tr th:only-of-type {\n",
       "        vertical-align: middle;\n",
       "    }\n",
       "\n",
       "    .dataframe tbody tr th {\n",
       "        vertical-align: top;\n",
       "    }\n",
       "\n",
       "    .dataframe thead th {\n",
       "        text-align: right;\n",
       "    }\n",
       "</style>\n",
       "<table border=\"1\" class=\"dataframe\">\n",
       "  <thead>\n",
       "    <tr style=\"text-align: right;\">\n",
       "      <th></th>\n",
       "      <th>id</th>\n",
       "      <th>Title</th>\n",
       "      <th>Description</th>\n",
       "      <th>Category</th>\n",
       "    </tr>\n",
       "  </thead>\n",
       "  <tbody>\n",
       "    <tr>\n",
       "      <th>0</th>\n",
       "      <td>1</td>\n",
       "      <td>Swissmar Capstore Select Storage Rack for 18-...</td>\n",
       "      <td>Swissmar's capstore select 18 storage unit kee...</td>\n",
       "      <td>Home &amp; Kitchen Kitchen &amp; Dining Kitchen Utens...</td>\n",
       "    </tr>\n",
       "    <tr>\n",
       "      <th>1</th>\n",
       "      <td>2</td>\n",
       "      <td>Gemini200 Delta CV-880 Gold Crown Livery Airc...</td>\n",
       "      <td>Welcome to the exciting world of GeminiJets! O...</td>\n",
       "      <td>Toys &amp; Games Hobbies Models &amp; Model Kits Pre-...</td>\n",
       "    </tr>\n",
       "    <tr>\n",
       "      <th>2</th>\n",
       "      <td>5</td>\n",
       "      <td>Superior Threads 10501-2172 Magnifico Cream P...</td>\n",
       "      <td>For quilting and embroidery, this product is m...</td>\n",
       "      <td>Arts, Crafts &amp; Sewing Sewing Thread &amp; Floss S...</td>\n",
       "    </tr>\n",
       "    <tr>\n",
       "      <th>3</th>\n",
       "      <td>6</td>\n",
       "      <td>Fashion Angels Color Rox Hair Chox Kit</td>\n",
       "      <td>Experiment with the haute trend of hair chalki...</td>\n",
       "      <td>Beauty &amp; Personal Care Hair Care Hair Colorin...</td>\n",
       "    </tr>\n",
       "    <tr>\n",
       "      <th>4</th>\n",
       "      <td>8</td>\n",
       "      <td>Union Creative Giant Killing Figure 05: Daisu...</td>\n",
       "      <td>From Union Creative. Turn your display shelf i...</td>\n",
       "      <td>Toys &amp; Games › Action Figures &amp; Statues › Sta...</td>\n",
       "    </tr>\n",
       "  </tbody>\n",
       "</table>\n",
       "</div>"
      ],
      "text/plain": [
       "   id                                              Title  \\\n",
       "0   1   Swissmar Capstore Select Storage Rack for 18-...   \n",
       "1   2   Gemini200 Delta CV-880 Gold Crown Livery Airc...   \n",
       "2   5   Superior Threads 10501-2172 Magnifico Cream P...   \n",
       "3   6            Fashion Angels Color Rox Hair Chox Kit    \n",
       "4   8   Union Creative Giant Killing Figure 05: Daisu...   \n",
       "\n",
       "                                         Description  \\\n",
       "0  Swissmar's capstore select 18 storage unit kee...   \n",
       "1  Welcome to the exciting world of GeminiJets! O...   \n",
       "2  For quilting and embroidery, this product is m...   \n",
       "3  Experiment with the haute trend of hair chalki...   \n",
       "4  From Union Creative. Turn your display shelf i...   \n",
       "\n",
       "                                            Category  \n",
       "0   Home & Kitchen Kitchen & Dining Kitchen Utens...  \n",
       "1   Toys & Games Hobbies Models & Model Kits Pre-...  \n",
       "2   Arts, Crafts & Sewing Sewing Thread & Floss S...  \n",
       "3   Beauty & Personal Care Hair Care Hair Colorin...  \n",
       "4   Toys & Games › Action Figures & Statues › Sta...  "
      ]
     },
     "execution_count": 3,
     "metadata": {},
     "output_type": "execute_result"
    }
   ],
   "source": [
    "amazon_df.head()"
   ]
  },
  {
   "cell_type": "code",
   "execution_count": 4,
   "id": "56f23ce8-9d22-4262-a2be-50048115114d",
   "metadata": {},
   "outputs": [],
   "source": [
    "amazon_df.drop('id',axis=1,inplace=True)"
   ]
  },
  {
   "cell_type": "code",
   "execution_count": 5,
   "id": "ae2edde2-30b4-42a7-a1b8-ff83ee54fdc7",
   "metadata": {},
   "outputs": [
    {
     "data": {
      "text/html": [
       "<div>\n",
       "<style scoped>\n",
       "    .dataframe tbody tr th:only-of-type {\n",
       "        vertical-align: middle;\n",
       "    }\n",
       "\n",
       "    .dataframe tbody tr th {\n",
       "        vertical-align: top;\n",
       "    }\n",
       "\n",
       "    .dataframe thead th {\n",
       "        text-align: right;\n",
       "    }\n",
       "</style>\n",
       "<table border=\"1\" class=\"dataframe\">\n",
       "  <thead>\n",
       "    <tr style=\"text-align: right;\">\n",
       "      <th></th>\n",
       "      <th>Title</th>\n",
       "      <th>Description</th>\n",
       "      <th>Category</th>\n",
       "    </tr>\n",
       "  </thead>\n",
       "  <tbody>\n",
       "    <tr>\n",
       "      <th>0</th>\n",
       "      <td>Swissmar Capstore Select Storage Rack for 18-...</td>\n",
       "      <td>Swissmar's capstore select 18 storage unit kee...</td>\n",
       "      <td>Home &amp; Kitchen Kitchen &amp; Dining Kitchen Utens...</td>\n",
       "    </tr>\n",
       "    <tr>\n",
       "      <th>1</th>\n",
       "      <td>Gemini200 Delta CV-880 Gold Crown Livery Airc...</td>\n",
       "      <td>Welcome to the exciting world of GeminiJets! O...</td>\n",
       "      <td>Toys &amp; Games Hobbies Models &amp; Model Kits Pre-...</td>\n",
       "    </tr>\n",
       "    <tr>\n",
       "      <th>2</th>\n",
       "      <td>Superior Threads 10501-2172 Magnifico Cream P...</td>\n",
       "      <td>For quilting and embroidery, this product is m...</td>\n",
       "      <td>Arts, Crafts &amp; Sewing Sewing Thread &amp; Floss S...</td>\n",
       "    </tr>\n",
       "    <tr>\n",
       "      <th>3</th>\n",
       "      <td>Fashion Angels Color Rox Hair Chox Kit</td>\n",
       "      <td>Experiment with the haute trend of hair chalki...</td>\n",
       "      <td>Beauty &amp; Personal Care Hair Care Hair Colorin...</td>\n",
       "    </tr>\n",
       "    <tr>\n",
       "      <th>4</th>\n",
       "      <td>Union Creative Giant Killing Figure 05: Daisu...</td>\n",
       "      <td>From Union Creative. Turn your display shelf i...</td>\n",
       "      <td>Toys &amp; Games › Action Figures &amp; Statues › Sta...</td>\n",
       "    </tr>\n",
       "  </tbody>\n",
       "</table>\n",
       "</div>"
      ],
      "text/plain": [
       "                                               Title  \\\n",
       "0   Swissmar Capstore Select Storage Rack for 18-...   \n",
       "1   Gemini200 Delta CV-880 Gold Crown Livery Airc...   \n",
       "2   Superior Threads 10501-2172 Magnifico Cream P...   \n",
       "3            Fashion Angels Color Rox Hair Chox Kit    \n",
       "4   Union Creative Giant Killing Figure 05: Daisu...   \n",
       "\n",
       "                                         Description  \\\n",
       "0  Swissmar's capstore select 18 storage unit kee...   \n",
       "1  Welcome to the exciting world of GeminiJets! O...   \n",
       "2  For quilting and embroidery, this product is m...   \n",
       "3  Experiment with the haute trend of hair chalki...   \n",
       "4  From Union Creative. Turn your display shelf i...   \n",
       "\n",
       "                                            Category  \n",
       "0   Home & Kitchen Kitchen & Dining Kitchen Utens...  \n",
       "1   Toys & Games Hobbies Models & Model Kits Pre-...  \n",
       "2   Arts, Crafts & Sewing Sewing Thread & Floss S...  \n",
       "3   Beauty & Personal Care Hair Care Hair Colorin...  \n",
       "4   Toys & Games › Action Figures & Statues › Sta...  "
      ]
     },
     "execution_count": 5,
     "metadata": {},
     "output_type": "execute_result"
    }
   ],
   "source": [
    "amazon_df.head()"
   ]
  },
  {
   "cell_type": "code",
   "execution_count": 6,
   "id": "ecd75459-afc5-43f7-84f0-1df8cce19c6d",
   "metadata": {},
   "outputs": [
    {
     "data": {
      "text/plain": [
       "Title          0\n",
       "Description    0\n",
       "Category       0\n",
       "dtype: int64"
      ]
     },
     "execution_count": 6,
     "metadata": {},
     "output_type": "execute_result"
    }
   ],
   "source": [
    "amazon_df.isnull().sum()"
   ]
  },
  {
   "cell_type": "code",
   "execution_count": 7,
   "id": "addb26ed-4b69-44b8-8669-57b94514d7ac",
   "metadata": {},
   "outputs": [],
   "source": [
    "from nltk.stem.snowball import SnowballStemmer\n",
    "stemmer=SnowballStemmer('english')\n",
    "def tokenize_stem(text):\n",
    "    tokens=nltk.word_tokenize(text.lower())\n",
    "    stemmed=[stemmer.stem(w) for w in tokens]\n",
    "    return \" \".join(stemmed)"
   ]
  },
  {
   "cell_type": "code",
   "execution_count": 8,
   "id": "e7cb78bc-17a2-49a1-bd00-bd5fd4dc0eac",
   "metadata": {},
   "outputs": [],
   "source": [
    "amazon_df['Description']=amazon_df['Description'].apply(tokenize_stem)\n",
    "amazon_df['Title']=amazon_df['Title'].apply(tokenize_stem)"
   ]
  },
  {
   "cell_type": "code",
   "execution_count": 9,
   "id": "fd13bc28-5336-43a0-9942-1d9fdd386713",
   "metadata": {},
   "outputs": [
    {
     "data": {
      "text/html": [
       "<div>\n",
       "<style scoped>\n",
       "    .dataframe tbody tr th:only-of-type {\n",
       "        vertical-align: middle;\n",
       "    }\n",
       "\n",
       "    .dataframe tbody tr th {\n",
       "        vertical-align: top;\n",
       "    }\n",
       "\n",
       "    .dataframe thead th {\n",
       "        text-align: right;\n",
       "    }\n",
       "</style>\n",
       "<table border=\"1\" class=\"dataframe\">\n",
       "  <thead>\n",
       "    <tr style=\"text-align: right;\">\n",
       "      <th></th>\n",
       "      <th>Title</th>\n",
       "      <th>Description</th>\n",
       "      <th>Category</th>\n",
       "    </tr>\n",
       "  </thead>\n",
       "  <tbody>\n",
       "    <tr>\n",
       "      <th>0</th>\n",
       "      <td>swissmar capstor select storag rack for 18-pack</td>\n",
       "      <td>swissmar 's capstor select 18 storag unit keep...</td>\n",
       "      <td>Home &amp; Kitchen Kitchen &amp; Dining Kitchen Utens...</td>\n",
       "    </tr>\n",
       "    <tr>\n",
       "      <th>1</th>\n",
       "      <td>gemini200 delta cv-880 gold crown liveri aircr...</td>\n",
       "      <td>welcom to the excit world of geminijet ! our m...</td>\n",
       "      <td>Toys &amp; Games Hobbies Models &amp; Model Kits Pre-...</td>\n",
       "    </tr>\n",
       "    <tr>\n",
       "      <th>2</th>\n",
       "      <td>superior thread 10501-2172 magnifico cream puf...</td>\n",
       "      <td>for quilt and embroideri , this product is mad...</td>\n",
       "      <td>Arts, Crafts &amp; Sewing Sewing Thread &amp; Floss S...</td>\n",
       "    </tr>\n",
       "    <tr>\n",
       "      <th>3</th>\n",
       "      <td>fashion angel color rox hair chox kit</td>\n",
       "      <td>experi with the haut trend of hair chalk with ...</td>\n",
       "      <td>Beauty &amp; Personal Care Hair Care Hair Colorin...</td>\n",
       "    </tr>\n",
       "    <tr>\n",
       "      <th>4</th>\n",
       "      <td>union creativ giant kill figur 05 : daisuk tsu...</td>\n",
       "      <td>from union creativ . turn your display shelf i...</td>\n",
       "      <td>Toys &amp; Games › Action Figures &amp; Statues › Sta...</td>\n",
       "    </tr>\n",
       "  </tbody>\n",
       "</table>\n",
       "</div>"
      ],
      "text/plain": [
       "                                               Title  \\\n",
       "0    swissmar capstor select storag rack for 18-pack   \n",
       "1  gemini200 delta cv-880 gold crown liveri aircr...   \n",
       "2  superior thread 10501-2172 magnifico cream puf...   \n",
       "3              fashion angel color rox hair chox kit   \n",
       "4  union creativ giant kill figur 05 : daisuk tsu...   \n",
       "\n",
       "                                         Description  \\\n",
       "0  swissmar 's capstor select 18 storag unit keep...   \n",
       "1  welcom to the excit world of geminijet ! our m...   \n",
       "2  for quilt and embroideri , this product is mad...   \n",
       "3  experi with the haut trend of hair chalk with ...   \n",
       "4  from union creativ . turn your display shelf i...   \n",
       "\n",
       "                                            Category  \n",
       "0   Home & Kitchen Kitchen & Dining Kitchen Utens...  \n",
       "1   Toys & Games Hobbies Models & Model Kits Pre-...  \n",
       "2   Arts, Crafts & Sewing Sewing Thread & Floss S...  \n",
       "3   Beauty & Personal Care Hair Care Hair Colorin...  \n",
       "4   Toys & Games › Action Figures & Statues › Sta...  "
      ]
     },
     "execution_count": 9,
     "metadata": {},
     "output_type": "execute_result"
    }
   ],
   "source": [
    "amazon_df.head()"
   ]
  },
  {
   "cell_type": "code",
   "execution_count": 10,
   "id": "591a813e-1632-498f-992d-322bd773b54e",
   "metadata": {},
   "outputs": [],
   "source": [
    "amazon_df['stemmed_tokens']=amazon_df['Title']+amazon_df['Description']"
   ]
  },
  {
   "cell_type": "code",
   "execution_count": 11,
   "id": "d883474d-095d-4a15-8fef-4b69c492db98",
   "metadata": {},
   "outputs": [
    {
     "data": {
      "text/html": [
       "<div>\n",
       "<style scoped>\n",
       "    .dataframe tbody tr th:only-of-type {\n",
       "        vertical-align: middle;\n",
       "    }\n",
       "\n",
       "    .dataframe tbody tr th {\n",
       "        vertical-align: top;\n",
       "    }\n",
       "\n",
       "    .dataframe thead th {\n",
       "        text-align: right;\n",
       "    }\n",
       "</style>\n",
       "<table border=\"1\" class=\"dataframe\">\n",
       "  <thead>\n",
       "    <tr style=\"text-align: right;\">\n",
       "      <th></th>\n",
       "      <th>Title</th>\n",
       "      <th>Description</th>\n",
       "      <th>Category</th>\n",
       "      <th>stemmed_tokens</th>\n",
       "    </tr>\n",
       "  </thead>\n",
       "  <tbody>\n",
       "    <tr>\n",
       "      <th>0</th>\n",
       "      <td>swissmar capstor select storag rack for 18-pack</td>\n",
       "      <td>swissmar 's capstor select 18 storag unit keep...</td>\n",
       "      <td>Home &amp; Kitchen Kitchen &amp; Dining Kitchen Utens...</td>\n",
       "      <td>swissmar capstor select storag rack for 18-pac...</td>\n",
       "    </tr>\n",
       "    <tr>\n",
       "      <th>1</th>\n",
       "      <td>gemini200 delta cv-880 gold crown liveri aircr...</td>\n",
       "      <td>welcom to the excit world of geminijet ! our m...</td>\n",
       "      <td>Toys &amp; Games Hobbies Models &amp; Model Kits Pre-...</td>\n",
       "      <td>gemini200 delta cv-880 gold crown liveri aircr...</td>\n",
       "    </tr>\n",
       "    <tr>\n",
       "      <th>2</th>\n",
       "      <td>superior thread 10501-2172 magnifico cream puf...</td>\n",
       "      <td>for quilt and embroideri , this product is mad...</td>\n",
       "      <td>Arts, Crafts &amp; Sewing Sewing Thread &amp; Floss S...</td>\n",
       "      <td>superior thread 10501-2172 magnifico cream puf...</td>\n",
       "    </tr>\n",
       "    <tr>\n",
       "      <th>3</th>\n",
       "      <td>fashion angel color rox hair chox kit</td>\n",
       "      <td>experi with the haut trend of hair chalk with ...</td>\n",
       "      <td>Beauty &amp; Personal Care Hair Care Hair Colorin...</td>\n",
       "      <td>fashion angel color rox hair chox kitexperi wi...</td>\n",
       "    </tr>\n",
       "    <tr>\n",
       "      <th>4</th>\n",
       "      <td>union creativ giant kill figur 05 : daisuk tsu...</td>\n",
       "      <td>from union creativ . turn your display shelf i...</td>\n",
       "      <td>Toys &amp; Games › Action Figures &amp; Statues › Sta...</td>\n",
       "      <td>union creativ giant kill figur 05 : daisuk tsu...</td>\n",
       "    </tr>\n",
       "  </tbody>\n",
       "</table>\n",
       "</div>"
      ],
      "text/plain": [
       "                                               Title  \\\n",
       "0    swissmar capstor select storag rack for 18-pack   \n",
       "1  gemini200 delta cv-880 gold crown liveri aircr...   \n",
       "2  superior thread 10501-2172 magnifico cream puf...   \n",
       "3              fashion angel color rox hair chox kit   \n",
       "4  union creativ giant kill figur 05 : daisuk tsu...   \n",
       "\n",
       "                                         Description  \\\n",
       "0  swissmar 's capstor select 18 storag unit keep...   \n",
       "1  welcom to the excit world of geminijet ! our m...   \n",
       "2  for quilt and embroideri , this product is mad...   \n",
       "3  experi with the haut trend of hair chalk with ...   \n",
       "4  from union creativ . turn your display shelf i...   \n",
       "\n",
       "                                            Category  \\\n",
       "0   Home & Kitchen Kitchen & Dining Kitchen Utens...   \n",
       "1   Toys & Games Hobbies Models & Model Kits Pre-...   \n",
       "2   Arts, Crafts & Sewing Sewing Thread & Floss S...   \n",
       "3   Beauty & Personal Care Hair Care Hair Colorin...   \n",
       "4   Toys & Games › Action Figures & Statues › Sta...   \n",
       "\n",
       "                                      stemmed_tokens  \n",
       "0  swissmar capstor select storag rack for 18-pac...  \n",
       "1  gemini200 delta cv-880 gold crown liveri aircr...  \n",
       "2  superior thread 10501-2172 magnifico cream puf...  \n",
       "3  fashion angel color rox hair chox kitexperi wi...  \n",
       "4  union creativ giant kill figur 05 : daisuk tsu...  "
      ]
     },
     "execution_count": 11,
     "metadata": {},
     "output_type": "execute_result"
    }
   ],
   "source": [
    "amazon_df.head()"
   ]
  },
  {
   "cell_type": "code",
   "execution_count": 31,
   "id": "172a0f46-ac02-416b-b36c-2b78c676a665",
   "metadata": {},
   "outputs": [],
   "source": [
    "from sklearn.feature_extraction.text import TfidfVectorizer\n",
    "from sklearn.metrics.pairwise import cosine_similarity\n",
    "\n",
    "tfidf = TfidfVectorizer()\n",
    "\n",
    "def cosine_sim(txt1, txt2):\n",
    "    tfidf_matrix = tfidf.fit_transform([txt1, txt2])\n",
    "    cos_sim = cosine_similarity(tfidf_matrix[0], tfidf_matrix[1])\n",
    "    return cos_sim[0][0]  # return just the scalar value\n"
   ]
  },
  {
   "cell_type": "code",
   "execution_count": 32,
   "id": "8d6edfe4-573d-43ae-ac2a-6815f7528cc1",
   "metadata": {},
   "outputs": [],
   "source": [
    "def search_product(query):\n",
    "    stemmed_query=tokenize_stem(query)\n",
    "    # calculating cosine simalarity between query and stemmed tokens columns\n",
    "    amazon_df['simalarity']=amazon_df['stemmed_tokens'].apply(lambda x:cosine_sim(stemmed_query,x))\n",
    "    res=amazon_df.sort_values(by=['simalarity'],ascending=False).head(10)[['Title','Description','Category']]\n",
    "    return res"
   ]
  },
  {
   "cell_type": "code",
   "execution_count": 34,
   "id": "d114cee1-1078-48d1-98de-627ecb37e582",
   "metadata": {},
   "outputs": [
    {
     "data": {
      "text/html": [
       "<div>\n",
       "<style scoped>\n",
       "    .dataframe tbody tr th:only-of-type {\n",
       "        vertical-align: middle;\n",
       "    }\n",
       "\n",
       "    .dataframe tbody tr th {\n",
       "        vertical-align: top;\n",
       "    }\n",
       "\n",
       "    .dataframe thead th {\n",
       "        text-align: right;\n",
       "    }\n",
       "</style>\n",
       "<table border=\"1\" class=\"dataframe\">\n",
       "  <thead>\n",
       "    <tr style=\"text-align: right;\">\n",
       "      <th></th>\n",
       "      <th>Title</th>\n",
       "      <th>Description</th>\n",
       "      <th>Category</th>\n",
       "    </tr>\n",
       "  </thead>\n",
       "  <tbody>\n",
       "    <tr>\n",
       "      <th>140</th>\n",
       "      <td>petunia pickl bottom bottl butler , bliss brisban</td>\n",
       "      <td>easy-to-clean and carri along , the bottl butl...</td>\n",
       "      <td>Baby Products › Feeding › Bottle-Feeding › Bo...</td>\n",
       "    </tr>\n",
       "    <tr>\n",
       "      <th>263</th>\n",
       "      <td>brita water bottl filter replac - bpa free - 5...</td>\n",
       "      <td>brita water filter bottl replac filter fit all...</td>\n",
       "      <td>Sports &amp; Outdoors Sports &amp; Fitness Accessorie...</td>\n",
       "    </tr>\n",
       "    <tr>\n",
       "      <th>517</th>\n",
       "      <td>mrs. meyer liquid hand soap parsley &amp; rhubarb ...</td>\n",
       "      <td>mrs. meyer 's clean day liquid hand soap varie...</td>\n",
       "      <td>Beauty &amp; Personal Care › Foot, Hand &amp; Nail Ca...</td>\n",
       "    </tr>\n",
       "    <tr>\n",
       "      <th>320</th>\n",
       "      <td>kalencom lamin buckl bag , rainbow zig zag</td>\n",
       "      <td>a magnet clip keep the top flap close . the po...</td>\n",
       "      <td>Baby Products › Diapering › Diaper Bags</td>\n",
       "    </tr>\n",
       "    <tr>\n",
       "      <th>98</th>\n",
       "      <td>24 , cobalt blue , 15 ml ( 1/2 oz ) glass bott...</td>\n",
       "      <td>these high qualiti cobalt blue glass bottl wit...</td>\n",
       "      <td>Beauty &amp; Personal Care › Tools &amp; Accessories ...</td>\n",
       "    </tr>\n",
       "    <tr>\n",
       "      <th>412</th>\n",
       "      <td>neutrogena fragranc free liquid neutrogena , f...</td>\n",
       "      <td>neutrogena fragranc free liquid facial cleans ...</td>\n",
       "      <td>Beauty &amp; Personal Care Skin Care Face Cleanse...</td>\n",
       "    </tr>\n",
       "    <tr>\n",
       "      <th>552</th>\n",
       "      <td>tervi water bottl , '' cabana with the sun ''</td>\n",
       "      <td>each tumbler featur double-wal insul that keep...</td>\n",
       "      <td>Sports &amp; Outdoors Sports &amp; Fitness Accessorie...</td>\n",
       "    </tr>\n",
       "    <tr>\n",
       "      <th>344</th>\n",
       "      <td>tervi water bottl , life is better at the beach</td>\n",
       "      <td>each tumbler featur double-wal insul that keep...</td>\n",
       "      <td>Sports &amp; Outdoors › Sports &amp; Fitness › Access...</td>\n",
       "    </tr>\n",
       "    <tr>\n",
       "      <th>650</th>\n",
       "      <td>pebeo vitrea 160 , glass paint , 45 ml bottl -...</td>\n",
       "      <td>with vitrea 160 's amaz transpar glass paint i...</td>\n",
       "      <td>Arts, Crafts &amp; Sewing › Painting, Drawing &amp; A...</td>\n",
       "    </tr>\n",
       "    <tr>\n",
       "      <th>162</th>\n",
       "      <td>covergirl invis conceal light ( n ) 125 , 0.32...</td>\n",
       "      <td>littl flaw - whi let the world see them ? with...</td>\n",
       "      <td>Beauty &amp; Personal Care › Makeup › Face › Conc...</td>\n",
       "    </tr>\n",
       "  </tbody>\n",
       "</table>\n",
       "</div>"
      ],
      "text/plain": [
       "                                                 Title  \\\n",
       "140  petunia pickl bottom bottl butler , bliss brisban   \n",
       "263  brita water bottl filter replac - bpa free - 5...   \n",
       "517  mrs. meyer liquid hand soap parsley & rhubarb ...   \n",
       "320         kalencom lamin buckl bag , rainbow zig zag   \n",
       "98   24 , cobalt blue , 15 ml ( 1/2 oz ) glass bott...   \n",
       "412  neutrogena fragranc free liquid neutrogena , f...   \n",
       "552      tervi water bottl , '' cabana with the sun ''   \n",
       "344    tervi water bottl , life is better at the beach   \n",
       "650  pebeo vitrea 160 , glass paint , 45 ml bottl -...   \n",
       "162  covergirl invis conceal light ( n ) 125 , 0.32...   \n",
       "\n",
       "                                           Description  \\\n",
       "140  easy-to-clean and carri along , the bottl butl...   \n",
       "263  brita water filter bottl replac filter fit all...   \n",
       "517  mrs. meyer 's clean day liquid hand soap varie...   \n",
       "320  a magnet clip keep the top flap close . the po...   \n",
       "98   these high qualiti cobalt blue glass bottl wit...   \n",
       "412  neutrogena fragranc free liquid facial cleans ...   \n",
       "552  each tumbler featur double-wal insul that keep...   \n",
       "344  each tumbler featur double-wal insul that keep...   \n",
       "650  with vitrea 160 's amaz transpar glass paint i...   \n",
       "162  littl flaw - whi let the world see them ? with...   \n",
       "\n",
       "                                              Category  \n",
       "140   Baby Products › Feeding › Bottle-Feeding › Bo...  \n",
       "263   Sports & Outdoors Sports & Fitness Accessorie...  \n",
       "517   Beauty & Personal Care › Foot, Hand & Nail Ca...  \n",
       "320           Baby Products › Diapering › Diaper Bags   \n",
       "98    Beauty & Personal Care › Tools & Accessories ...  \n",
       "412   Beauty & Personal Care Skin Care Face Cleanse...  \n",
       "552   Sports & Outdoors Sports & Fitness Accessorie...  \n",
       "344   Sports & Outdoors › Sports & Fitness › Access...  \n",
       "650   Arts, Crafts & Sewing › Painting, Drawing & A...  \n",
       "162   Beauty & Personal Care › Makeup › Face › Conc...  "
      ]
     },
     "execution_count": 34,
     "metadata": {},
     "output_type": "execute_result"
    }
   ],
   "source": [
    "search_product('bottle')"
   ]
  },
  {
   "cell_type": "code",
   "execution_count": 38,
   "id": "7530515f-d99b-4849-b943-3c2f67580e56",
   "metadata": {},
   "outputs": [
    {
     "name": "stderr",
     "output_type": "stream",
     "text": [
      "[nltk_data] Downloading package punkt to nltk_data...\n",
      "[nltk_data]   Unzipping tokenizers\\punkt.zip.\n"
     ]
    },
    {
     "data": {
      "text/plain": [
       "True"
      ]
     },
     "execution_count": 38,
     "metadata": {},
     "output_type": "execute_result"
    }
   ],
   "source": [
    "import nltk\n",
    "\n",
    "nltk.download('punkt', download_dir='nltk_data')\n"
   ]
  },
  {
   "cell_type": "code",
   "execution_count": 41,
   "id": "579cf66b-d2d6-48cc-a108-92fa531d1fa1",
   "metadata": {},
   "outputs": [],
   "source": [
    "import pickle\n",
    "\n",
    "with open('model.pkl', 'wb') as file:\n",
    "    pickle.dump(amazon_df, file)\n"
   ]
  },
  {
   "cell_type": "code",
   "execution_count": 40,
   "id": "c05d058e-b491-481c-aec4-ca0396848de2",
   "metadata": {},
   "outputs": [
    {
     "name": "stdout",
     "output_type": "stream",
     "text": [
      "numpy 2.1.3\n",
      "pandas 2.2.3\n",
      "nltk 3.9.1\n"
     ]
    }
   ],
   "source": [
    "import numpy as np\n",
    "import pandas as pd\n",
    "import nltk\n",
    "print('numpy',np.__version__)\n",
    "print('pandas',pd.__version__)\n",
    "print('nltk',nltk.__version__)"
   ]
  },
  {
   "cell_type": "code",
   "execution_count": null,
   "id": "1eb9b573-9316-48bc-8fcd-1dde83b0f662",
   "metadata": {},
   "outputs": [],
   "source": []
  }
 ],
 "metadata": {
  "kernelspec": {
   "display_name": "Python 3 (ipykernel)",
   "language": "python",
   "name": "python3"
  },
  "language_info": {
   "codemirror_mode": {
    "name": "ipython",
    "version": 3
   },
   "file_extension": ".py",
   "mimetype": "text/x-python",
   "name": "python",
   "nbconvert_exporter": "python",
   "pygments_lexer": "ipython3",
   "version": "3.10.0"
  }
 },
 "nbformat": 4,
 "nbformat_minor": 5
}
